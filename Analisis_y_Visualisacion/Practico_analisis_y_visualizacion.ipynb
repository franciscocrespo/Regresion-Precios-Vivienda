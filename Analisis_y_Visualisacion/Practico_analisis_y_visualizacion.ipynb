{
 "cells": [
  {
   "cell_type": "markdown",
   "metadata": {},
   "source": [
    "### DIPLOMATURA EN CIENCIA DE DATOS 2019\n",
    "\n",
    "#### ANALISIS Y VISUALIZACIÓN DE DATOS\n",
    "\n"
   ]
  },
  {
   "cell_type": "code",
   "execution_count": 5,
   "metadata": {},
   "outputs": [],
   "source": [
    "import pandas as pd\n",
    "import seaborn\n",
    "import matplotlib.pyplot as plt\n",
    "import scipy\n",
    "\n",
    "import warnings\n",
    "warnings.filterwarnings('ignore')"
   ]
  },
  {
   "cell_type": "markdown",
   "metadata": {},
   "source": [
    "**Usaremos la bliblioteca Pandas para leer los datos a partir del archivo dataset.csv que los contiene y mostramos un ejemplo de 5 registros.**"
   ]
  },
  {
   "cell_type": "code",
   "execution_count": 7,
   "metadata": {
    "scrolled": false
   },
   "outputs": [],
   "source": [
    "data = pd.read_csv('dataset.csv')\n",
    "data.sample(5)"
   ]
  },
  {
   "cell_type": "markdown",
   "metadata": {},
   "source": [
    "**Veamos cuantos valores no nulos contiene cada columna en porcentaje. Se puede observar en la siguiente tabla que hay features a las que le faltan gran cantidad de datos. Estas no deben de ser tenidas en cuenta para nuestro estudio.**"
   ]
  },
  {
   "cell_type": "code",
   "execution_count": null,
   "metadata": {
    "scrolled": false
   },
   "outputs": [],
   "source": [
    "pd.options.display.max_rows = 81\n",
    "aux = (data.count() / data.shape[0]) * 100\n",
    "porcentaje_datos_por_columna = pd.DataFrame(aux, columns=[\"Porcentaje_no_nulo\"])\n",
    "porcentaje_datos_por_columna.sort_values(\"Porcentaje_no_nulo\")"
   ]
  },
  {
   "cell_type": "markdown",
   "metadata": {},
   "source": [
    "#### EJERCICIOS"
   ]
  },
  {
   "cell_type": "markdown",
   "metadata": {},
   "source": [
    "**a - Muestre los estadisticos más relevantes sobre SalePrice.**"
   ]
  },
  {
   "cell_type": "markdown",
   "metadata": {},
   "source": [
    "**b - Represente graficamente la distribución de la variable SalePrice. ¿Que características tiene?**"
   ]
  },
  {
   "cell_type": "markdown",
   "metadata": {},
   "source": [
    "**c - Represente de forma gráfica la relación entre las features SalePrice y Neighborhood. ¿Que observa?**"
   ]
  },
  {
   "cell_type": "markdown",
   "metadata": {},
   "source": [
    "**d - Represente de forma gráfica la relación entre las features SalePrice y OverallQual. ¿Que observa?**"
   ]
  },
  {
   "cell_type": "markdown",
   "metadata": {},
   "source": [
    "**e - Las características OverallQual y Neighborhood. ¿Son dependientes o no? ¿Que conclusiones se pueden obtener del resultado?\n",
    "  *Recuerde que ambas features son Cualitativas*\n",
    "**"
   ]
  },
  {
   "cell_type": "markdown",
   "metadata": {},
   "source": [
    "**f - ¿Cual es la vivienda más cara y las más barata del conjunto de datos?**\n",
    "**¿Son estos valores outliers?**"
   ]
  },
  {
   "cell_type": "markdown",
   "metadata": {},
   "source": [
    "**g - ¿Cual es la probabilidad de que una vivienda tenga pileta, garage y segunda planta?, ¿Que precio médio tienen este tipo de viviendas?**"
   ]
  },
  {
   "cell_type": "markdown",
   "metadata": {},
   "source": [
    "**h - ¿Cual es la probabilidad de que la vivienda del barrio NPkVill sea de nueva construcción?, ¿Cual es la probabilidad de que una vivienda en el barrio Mitchel sea de nueva construcción?, ¿Se puede obtener alguna conclusión de los resultados?**"
   ]
  },
  {
   "cell_type": "markdown",
   "metadata": {},
   "source": [
    "#### OPCIONAL"
   ]
  },
  {
   "cell_type": "markdown",
   "metadata": {},
   "source": [
    "**En este punto se deja volar la imaginación de cada grupo. Usen todas las metodologias y tecticas que hayan aprendido y necesiten para intentar determinar que barrio de la ciudad es el que se esta desarrollando más. Es decir: ¿Serían capaces de responder por donde esta creciendo la ciudad?**"
   ]
  }
 ],
 "metadata": {
  "kernelspec": {
   "display_name": "Python 3",
   "language": "python",
   "name": "python3"
  },
  "language_info": {
   "codemirror_mode": {
    "name": "ipython",
    "version": 3
   },
   "file_extension": ".py",
   "mimetype": "text/x-python",
   "name": "python",
   "nbconvert_exporter": "python",
   "pygments_lexer": "ipython3",
   "version": "3.5.5"
  }
 },
 "nbformat": 4,
 "nbformat_minor": 2
}
