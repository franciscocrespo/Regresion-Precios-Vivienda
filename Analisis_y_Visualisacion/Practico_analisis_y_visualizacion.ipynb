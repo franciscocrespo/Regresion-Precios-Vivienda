{
 "cells": [
  {
   "cell_type": "markdown",
   "metadata": {},
   "source": [
    "### DIPLOMATURA EN CIENCIA DE DATOS 2019\n",
    "\n",
    "#### ANALISIS Y VISUALIZACIÓN DE DATOS\n",
    "\n"
   ]
  },
  {
   "cell_type": "code",
   "execution_count": 1,
   "metadata": {},
   "outputs": [],
   "source": [
    "import pandas as pd\n",
    "import seaborn\n",
    "import matplotlib.pyplot as plt\n",
    "import scipy\n",
    "\n",
    "import warnings\n",
    "warnings.filterwarnings('ignore')"
   ]
  },
  {
   "cell_type": "markdown",
   "metadata": {},
   "source": [
    "**Usaremos la bliblioteca Pandas para leer los datos a partir del archivo dataset.csv que los contiene y mostramos un ejemplo de 5 registros.**"
   ]
  },
  {
   "cell_type": "code",
   "execution_count": 11,
   "metadata": {
    "scrolled": false
   },
   "outputs": [],
   "source": [
    "data = pd.read_csv('dataset.csv')\n",
    "data.sample(5)"
   ]
  },
  {
   "cell_type": "markdown",
   "metadata": {},
   "source": [
    "**Veamos cuantos valores no nulos contiene cada columna en porcentaje. Se puede observar en la siguiente tabla que hay features a las que le faltan gran cantidad de datos. Estas no deben de ser tenidas en cuenta para nuestro estudio.**"
   ]
  },
  {
   "cell_type": "code",
   "execution_count": null,
   "metadata": {
    "scrolled": false
   },
   "outputs": [],
   "source": [
    "pd.options.display.max_rows = 81\n",
    "aux = (data.count() / data.shape[0]) * 100\n",
    "porcentaje_datos_por_columna = pd.DataFrame(aux, columns=[\"Porcentaje_no_nulo\"])\n",
    "porcentaje_datos_por_columna.sort_values(\"Porcentaje_no_nulo\")"
   ]
  },
  {
   "cell_type": "markdown",
   "metadata": {},
   "source": [
    "#### EJERCICIOS"
   ]
  },
  {
   "cell_type": "markdown",
   "metadata": {},
   "source": [
    "**Como se observa, el precio de la vivienda esta caracterizado por un gran conjunto de variables. Para esta tarea nos vamos a centrar en un par de caracteísticas. Se proponen las siguientes tareas a realizar:**\n",
    "\n",
    "**1 - En primer lugar se desea observar que tipo de relación tiene el precio de la vivienda con el vecindario donde está localizada. Estimar y representar esa relación con el o los gráficos que considere mas apropiados.**\n",
    "\n",
    "**2 - Otra característica que se observa es el número de plantas de la vivienda. Cada planta está definida en pies cuadrados. Estimar y representar la relación existente que tiene esta característica con el precio de la vivienda.**\n",
    "\n",
    "**3 - Si tomamos un subconjunto de datos, formado por las viviendas situadas en el barrio Old Town y observamos su precio medio. ¿Podemos afirmar que el precio medio del resto del conjunto de viviendas es inferior o igual a 150000 USD con una confianza del 1%? Del conjunto del resto de viviendas solo conocemos que su varianza es de 6357600002.146389.**"
   ]
  },
  {
   "cell_type": "markdown",
   "metadata": {},
   "source": [
    "#### INFORME"
   ]
  },
  {
   "cell_type": "markdown",
   "metadata": {},
   "source": [
    "**Una vez respondidos los puntos anteriores se entregará un informe en el que y muestren la conclusiones obtenidas del caso de estudio. El informe deberá de contener los gráficos, estadísticos y tablas necesarias para el mejor entendimiento de los resultados obtenidos. Este podrá ser entregado en html, markdown o pdf y deben de redactarlo como si fuese dirigido a un cliente que no sabe de análisis de datos.**"
   ]
  }
 ],
 "metadata": {
  "kernelspec": {
   "display_name": "Python 3",
   "language": "python",
   "name": "python3"
  },
  "language_info": {
   "codemirror_mode": {
    "name": "ipython",
    "version": 3
   },
   "file_extension": ".py",
   "mimetype": "text/x-python",
   "name": "python",
   "nbconvert_exporter": "python",
   "pygments_lexer": "ipython3",
   "version": "3.6.6"
  }
 },
 "nbformat": 4,
 "nbformat_minor": 2
}
