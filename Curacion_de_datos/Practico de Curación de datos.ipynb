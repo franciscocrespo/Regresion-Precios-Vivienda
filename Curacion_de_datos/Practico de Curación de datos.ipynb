{
 "cells": [
  {
   "cell_type": "markdown",
   "metadata": {},
   "source": [
    "### DIPLOMATURA EN CIENCIA DE DATOS 2019\n",
    "\n",
    "#### CORACIÓN DE DATOS"
   ]
  },
  {
   "cell_type": "code",
   "execution_count": null,
   "metadata": {},
   "outputs": [],
   "source": [
    "import pandas as pd\n",
    "import seaborn as sns\n",
    "import matplotlib.pyplot as plt\n",
    "from scipy import stats\n",
    "import numpy as np\n",
    "\n",
    "import warnings\n",
    "warnings.filterwarnings('ignore')"
   ]
  },
  {
   "cell_type": "markdown",
   "metadata": {},
   "source": [
    "**Usaremos la bliblioteca Pandas para leer los datos a partir del archivo dataset.csv que los contiene y mostramos un ejemplo de 5 registros.**"
   ]
  },
  {
   "cell_type": "code",
   "execution_count": null,
   "metadata": {},
   "outputs": [],
   "source": [
    "np.random.seed(0)\n",
    "data = pd.read_csv('dataset.csv')\n",
    "data.sample(5)"
   ]
  },
  {
   "cell_type": "markdown",
   "metadata": {},
   "source": [
    "**Veamos cuales son las features con valores faltantes y que porcentaje de valores nulos tiene cada feature.**"
   ]
  },
  {
   "cell_type": "code",
   "execution_count": null,
   "metadata": {
    "scrolled": false
   },
   "outputs": [],
   "source": [
    "total = data.isnull().sum().sort_values(ascending=False)\n",
    "percent = (data.isnull().sum() / data.shape[0]).sort_values(ascending=False)\n",
    "missing_data = pd.concat([total, percent * 100], axis=1, keys=['Total', 'Percent'])\n",
    "missing_data[missing_data['Total'] != 0] "
   ]
  },
  {
   "cell_type": "markdown",
   "metadata": {},
   "source": [
    "### EJERCICIOS"
   ]
  },
  {
   "cell_type": "markdown",
   "metadata": {},
   "source": [
    "**EL objetivo de este práctico es dejar los datos listos para que sean tomados para el entrenamiento de un metodo supervisado o para aplicar modelos no supervisados. Si observamos los datos vemos que tenemos que hacer un poco de trabajo en este practico ya que existe gran cantidad de valores nulos y valores atipicos. Tambien deberiamos de separar las variables categoricas de las numericas.**\n",
    "\n",
    "**A continuación se muestran 3 tareas a realizar en el conjunto de datos:**\n",
    "\n",
    "**1 - Elimine los valores nulos de conjunto de datos, los modelos de machine learning fallaran si les llega algún dato nulo. Consejos:**\n",
    "   \n",
    "    a - Es preferible eliminar las columnas con muchos valores faltantes a las filas. Si eliminamos las filas perderemos\n",
    "        una gran cantidad de registros y eso no es bueno, ya que perderemos datos para el entrenamiento de nuetro modelo.\n",
    "    b - En los casos en los que el porcentaje de valores nulos sea bajo, vean si esas variables se correlacionan con \n",
    "        otras y las eliminan. \n",
    "    c - En el caso en el que sea minimos los valores nulos, eliminen el registro, este podria ser el caso de Electrical.\n",
    "    \n",
    "**2 - En el conjunto de datos existen dos tipos de features, unas son numéricas y otras categóricas. Separe estos dos subconjuntos, ya que serán usados en modelos distintos. Unas observación importantes:**\n",
    "\n",
    "    a - Es importante hacer una transformación de las variables, categóricas a tipo categórico, como se vio en las\n",
    "        clases teóricas.\n",
    "    b - Tambien deberian de normalizar las features numéricas para que sus valores oscilen entre 0 y 1. Esto puede ser\n",
    "        de vital importancia para el funcionamiento correcto de algunos modelos.\n",
    "\n",
    "\n",
    "**3 - Después de sacar los valores nulos y detectar las features numéricas debemos de sacarles los outliers, a estas. Los outliers son aquellos puntos que estan muy alejados de la mediana. Estos influirán en los resultados de nuestro modelo, introduciendo una desviación al mismo. Esta desviación es consecuencia de que el modelo minimiza la distancia con el valor atípico a la vez que aumenta la distancia con los puntos correctos. Pistas para eliminarlos:**\n",
    "    \n",
    "    a - Los valores atípicos estarán relacionados a las variables numéricas, es decir aquellas features que no son\n",
    "        categóricas. Debemos de localizar las variables numericas.\n",
    "    b - Los valóres atípicos son aquellos que se encuentras más allá del rango intercualtir Q3 + 1,5*[Q3 - Q1] o \n",
    "        Q1 - 1,5*[Q3 - Q1]"
   ]
  },
  {
   "cell_type": "markdown",
   "metadata": {},
   "source": [
    "### INFORME"
   ]
  },
  {
   "cell_type": "markdown",
   "metadata": {},
   "source": [
    "**Una vez respondidos los puntos anteriores se entregará un informe en el que y muestren la conclusiones obtenidas del caso de estudio. El informe deberá de contener los gráficos, estadísticos y tablas necesarias para el mejor entendimiento de los resultados obtenidos. Este podrá ser entregado en html, markdown o pdf y deben de redactarlo como si fuese dirigido a un cliente que no sabe de análisis de datos.**"
   ]
  },
  {
   "cell_type": "markdown",
   "metadata": {},
   "source": [
    "----"
   ]
  },
  {
   "cell_type": "markdown",
   "metadata": {},
   "source": [
    "### AYUDA"
   ]
  },
  {
   "cell_type": "markdown",
   "metadata": {},
   "source": [
    "**Veamos como se eliminan los valores atípicos de LotArea. Esto mismo lo tienen que hacer para todas las variables numericas. Pueden crear alguna función que vaya recorriendo las columnas numericas y sacando los valores atipicos.**\n",
    "\n",
    "**Tengan en cuenta que para eliminar los outliers deben de haber limpiado antes el dataset de valores nulos y aplicar solo a las variables no categóricas.**"
   ]
  },
  {
   "cell_type": "code",
   "execution_count": null,
   "metadata": {},
   "outputs": [],
   "source": [
    "# Representacion de los valóres atípicos para LotArea\n",
    "plt.figure(figsize=(5, 5))\n",
    "sns.boxplot(x='LotArea', data=data)"
   ]
  },
  {
   "cell_type": "code",
   "execution_count": null,
   "metadata": {},
   "outputs": [],
   "source": [
    "# https://towardsdatascience.com/understanding-boxplots-5e2df7bcbd51\n",
    "Q1 = np.percentile(data['LotArea'], 25)\n",
    "Q3 = np.percentile(data['LotArea'], 75)\n",
    "iqr = Q3 - Q1\n",
    "lower_limit = Q1 - 1.5 * iqr\n",
    "higher_limit = Q3 + 1.5 * iqr"
   ]
  },
  {
   "cell_type": "code",
   "execution_count": null,
   "metadata": {},
   "outputs": [],
   "source": [
    "# Obtenemos los indices de los outliers para lotArea y los agrupamos en una lista\n",
    "lower_outliers = data[data['LotArea'] < lower_limit].index\n",
    "higher_outliers = data[data['LotArea'] > higher_limit].index\n",
    "outliers = np.concatenate([lower_outliers, higher_outliers], axis=0)"
   ]
  },
  {
   "cell_type": "code",
   "execution_count": null,
   "metadata": {},
   "outputs": [],
   "source": [
    "outliers"
   ]
  },
  {
   "cell_type": "code",
   "execution_count": null,
   "metadata": {},
   "outputs": [],
   "source": [
    "# Eliminamos los registros que son outliers\n",
    "data_not_outliers = data['LotArea'].drop(data.index[outliers])"
   ]
  },
  {
   "cell_type": "code",
   "execution_count": null,
   "metadata": {},
   "outputs": [],
   "source": [
    "print(\"total datos: {0}\".format(data.shape[0]))\n",
    "print(\"datos sin outliers: {0}\".format(data_not_outliers.shape[0]))\n",
    "print(\"outliers: {0}\".format(len(outliers)))"
   ]
  },
  {
   "cell_type": "code",
   "execution_count": null,
   "metadata": {},
   "outputs": [],
   "source": [
    "# Representacion de los valóres atípicos para LotArea\n",
    "plt.figure(figsize=(5, 5))\n",
    "sns.boxplot(x=data_not_outliers)"
   ]
  },
  {
   "cell_type": "code",
   "execution_count": null,
   "metadata": {},
   "outputs": [],
   "source": [
    "### PD: "
   ]
  }
 ],
 "metadata": {
  "kernelspec": {
   "display_name": "Python 3",
   "language": "python",
   "name": "python3"
  },
  "language_info": {
   "codemirror_mode": {
    "name": "ipython",
    "version": 3
   },
   "file_extension": ".py",
   "mimetype": "text/x-python",
   "name": "python",
   "nbconvert_exporter": "python",
   "pygments_lexer": "ipython3",
   "version": "3.5.5"
  }
 },
 "nbformat": 4,
 "nbformat_minor": 2
}
